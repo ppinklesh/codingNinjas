{
 "cells": [
  {
   "cell_type": "markdown",
   "metadata": {},
   "source": [
    "### For inbuilt stack we can use list"
   ]
  },
  {
   "cell_type": "code",
   "execution_count": 8,
   "metadata": {},
   "outputs": [
    {
     "name": "stdout",
     "output_type": "stream",
     "text": [
      "5\n",
      "4\n"
     ]
    }
   ],
   "source": [
    "# inbuilt stack as list\n",
    "s = [1,2,3]\n",
    "\n",
    "s.append(4)\n",
    "s.append(5)\n",
    "\n",
    "print(s.pop())\n",
    "print(s.pop())"
   ]
  },
  {
   "cell_type": "markdown",
   "metadata": {},
   "source": [
    "#### We shouldn't use list for queue in Python instead we've an inbuilt library queue from Python 3 onwards.\n"
   ]
  },
  {
   "cell_type": "code",
   "execution_count": 12,
   "metadata": {},
   "outputs": [
    {
     "name": "stdout",
     "output_type": "stream",
     "text": [
      "1\n",
      "2\n",
      "3\n",
      "4\n"
     ]
    }
   ],
   "source": [
    "# Inbuilt Queue Library\n",
    "\n",
    "import queue              # importing queue inbuilt library\n",
    "q = queue.Queue()\n",
    "\n",
    "q.put(1)                  # put enqueues the element \n",
    "q.put(2)\n",
    "q.put(3)\n",
    "q.put(4)\n",
    "\n",
    "while not q.empty():\n",
    "    print(q.get())        # get dequeue the element"
   ]
  },
  {
   "cell_type": "code",
   "execution_count": 2,
   "metadata": {},
   "outputs": [
    {
     "name": "stdout",
     "output_type": "stream",
     "text": [
      "3\n",
      "2\n",
      "1\n"
     ]
    }
   ],
   "source": [
    "# Inbuilt Stack Library\n",
    "import queue\n",
    "q = queue.LifoQueue()              # LifoQueue class is actually a stack\n",
    "q.put(1)\n",
    "q.put(2)\n",
    "q.put(3)\n",
    "\n",
    "while not q.empty():\n",
    "    print(q.get())"
   ]
  },
  {
   "cell_type": "code",
   "execution_count": null,
   "metadata": {},
   "outputs": [],
   "source": [
    "import queue\n",
    "def reverseQueue(q1):\n",
    "    q1 = queue.LifoQueue()\n",
    "    while not q.empty():\n",
    "        print(q1.get())\n",
    "from sys import setrecursionlimit\n",
    "setrecursionlimit(11000)\n",
    "li = [int(ele) for ele in (input().split()[1:])]\n",
    "q1 = queue.Queue()\n",
    "for ele in li:\n",
    "    q1.put(ele)\n",
    "reverseQueue(q1)\n",
    "#while(q1.empty() is False):\n",
    " #   print(q1.get(),end= ' ')"
   ]
  },
  {
   "cell_type": "code",
   "execution_count": null,
   "metadata": {},
   "outputs": [],
   "source": [
    "import queue\n",
    "def reverseQueue(q):\n",
    "    if q.empty():\n",
    "        return\n",
    "    data=q.get()\n",
    "    reverseQueue(q)\n",
    "    q.put(data)\n",
    "from sys import setrecursionlimit\n",
    "setrecursionlimit(11000)\n",
    "li = [int(ele) for ele in (input().split()[1:])]\n",
    "q1 = queue.Queue()\n",
    "for ele in li:\n",
    "    q1.put(ele)\n",
    "reverseQueue(q1)\n",
    "while(q1.empty() is False):\n",
    "    print(q1.get(),end= ' ')"
   ]
  },
  {
   "cell_type": "code",
   "execution_count": null,
   "metadata": {},
   "outputs": [],
   "source": [
    "import queue  \n",
    "def reverseFirstK(q,k):\n",
    "#Implement Your Code Here     \n",
    "\n",
    "        \n",
    "from sys import setrecursionlimit\n",
    "setrecursionlimit(11000)\n",
    "n = int(input())\n",
    "li = [int(ele) for ele in input().split()]\n",
    "q = queue.Queue()\n",
    "for ele in li:\n",
    "\tq.put(ele)\n",
    "k = int(input())\n",
    "reverseFirstK(q,k) \n",
    "while(q.qsize()>0):\n",
    "\tprint(q.get())\n",
    "\tn-=1"
   ]
  }
 ],
 "metadata": {
  "kernelspec": {
   "display_name": "Python 3",
   "language": "python",
   "name": "python3"
  },
  "language_info": {
   "codemirror_mode": {
    "name": "ipython",
    "version": 3
   },
   "file_extension": ".py",
   "mimetype": "text/x-python",
   "name": "python",
   "nbconvert_exporter": "python",
   "pygments_lexer": "ipython3",
   "version": "3.8.2"
  }
 },
 "nbformat": 4,
 "nbformat_minor": 2
}
